{
 "cells": [
  {
   "cell_type": "markdown",
   "metadata": {},
   "source": [
    "### Exercise 1\n",
    "\n",
    "How would you define Machine Learning?\n"
   ]
  },
  {
   "cell_type": "markdown",
   "metadata": {},
   "source": [
    "The most popular definitions of machine learning are the more general educational one\n",
    "\n",
    "\"The ability of a machine to learn without being explicitly programmed to do so\"\n",
    "\n",
    "and the more rigorous\n",
    "\n",
    "\"A computer program is said to learn from experience E with respect to some task T and some performance measure P, if its performance in task T, as measured by P, improves with experience E\"\n"
   ]
  },
  {
   "cell_type": "markdown",
   "metadata": {},
   "source": [
    "### Exercise 2\n",
    "\n",
    "Can you name 4 types of applications where it shines?\n"
   ]
  },
  {
   "cell_type": "markdown",
   "metadata": {},
   "source": [
    "Complex problems that don't have a known algorithmic solution (e.g. speech recognition), problems\n",
    "that study fluctuating data that changes with time (e.g. weather forecasting), problems that\n",
    "were traditionally solved by an expert system which is a program with a long list of hard-coded rules\n",
    "(e.g. illness prediction), and\n"
   ]
  },
  {
   "cell_type": "markdown",
   "metadata": {},
   "source": [
    "### Exercise 3\n",
    "\n",
    "What is a labeled training set?\n"
   ]
  },
  {
   "cell_type": "markdown",
   "metadata": {},
   "source": [
    "A training set is labeled when every data point contains a value for the target variable, $y^{(i)}$. The target variable is the variable that the model is trying to predict. In a labeled dataset each point has the actual measured value of the variable we are trying to predict, that's why it is often said that a labeled dataset has data with the right answers.\n"
   ]
  },
  {
   "cell_type": "markdown",
   "metadata": {},
   "source": [
    "### Exercise 4\n",
    "\n",
    "What are the two most common supervised tasks?\n"
   ]
  },
  {
   "cell_type": "markdown",
   "metadata": {},
   "source": [
    "Classification, where the target is a categorical value, and regression, where the target is a continuous numerical variable.\n"
   ]
  },
  {
   "cell_type": "markdown",
   "metadata": {},
   "source": [
    "### Exercise 5\n",
    "\n",
    "Can you named 4 common unsupervised tasks?\n"
   ]
  },
  {
   "cell_type": "markdown",
   "metadata": {},
   "source": [
    "Clustering, anomaly detection, dimensionality reduction, and visualization algorithms for high dimensional data.\n"
   ]
  },
  {
   "cell_type": "markdown",
   "metadata": {},
   "source": [
    "### Exercise 6\n",
    "\n",
    "What type of algorithm would you use to allow a robot to walk in various unknown terrains?\n"
   ]
  },
  {
   "cell_type": "markdown",
   "metadata": {},
   "source": [
    "I would use reinforcement learning.\n"
   ]
  },
  {
   "cell_type": "markdown",
   "metadata": {},
   "source": [
    "### Exercise 7\n",
    "\n",
    "What type of algorithm would you use to segment your customers into multiple groups?\n"
   ]
  },
  {
   "cell_type": "markdown",
   "metadata": {},
   "source": [
    "A clustering algorithm, which is a type of unsupervised learning.\n"
   ]
  },
  {
   "cell_type": "markdown",
   "metadata": {},
   "source": [
    "### Exercise 8\n",
    "\n",
    "Would you frame the problem of spam detection as a supervised learning problem or an unsupervised learning problem.\n"
   ]
  },
  {
   "cell_type": "markdown",
   "metadata": {},
   "source": [
    "The dataset that you would use in such a problem should contain many emails, each labeled as spam or not spam. Therefore, the dataset is labeled and this is a supervised learning problem, more specifically a binary classification problem.\n"
   ]
  },
  {
   "cell_type": "markdown",
   "metadata": {},
   "source": [
    "### Exercise 9\n",
    "\n",
    "What is an online learning system?\n"
   ]
  },
  {
   "cell_type": "markdown",
   "metadata": {},
   "source": [
    "An online learning system is a system that is able to incrementally learn from new data, without having to be trained from scratch each time there is a new data point.\n"
   ]
  },
  {
   "cell_type": "markdown",
   "metadata": {},
   "source": [
    "### Exercise 10\n",
    "\n",
    "What is out-of-core learning?\n"
   ]
  },
  {
   "cell_type": "markdown",
   "metadata": {},
   "source": [
    "When dealing with huge datasets or with machines that are very performance limited, such as mobile devices, it is often impossible to train a ML model at once (the dataset may not in even fit in storage). In such cases, the dataset is chopped up in mini-batches that are used to incrementally train the model with more data, leveraging the advantages of online learning. This is calle out-of-core learning.\n"
   ]
  },
  {
   "cell_type": "markdown",
   "metadata": {},
   "source": [
    "### Exercise 11\n",
    "\n",
    "What type of algorithm relies on a similarity measure to make predictions?\n"
   ]
  },
  {
   "cell_type": "markdown",
   "metadata": {},
   "source": [
    "A case-based algorithm. In this type of algorithm, the prediction is made based only on the points of the training data that are most similar to the new point that the algorithm is trying to predict. This algorithms naturally requires some sort of similarity measurement to make predictions.\n"
   ]
  },
  {
   "cell_type": "markdown",
   "metadata": {},
   "source": [
    "### Exercise 12\n",
    "\n",
    "What is the difference between a model parameter and hyperparameter?\n"
   ]
  },
  {
   "cell_type": "markdown",
   "metadata": {},
   "source": [
    "A model is a function $f_{\\vec{w}}(\\vec{x})$ that attempts to predict the value of the target variable $y$ based on the value of the input variable $\\vec{x}$, the model parameters are the parameters of that function $\\vec{w}$. When the model is fitted to a training set, the parameters are optimized to minimize a cost function.\n",
    "\n",
    "The hyperparameters are the values that control the size of the parameters. This is done by including the hyperparameters inside the cost function.\n"
   ]
  }
 ],
 "metadata": {
  "language_info": {
   "name": "python"
  }
 },
 "nbformat": 4,
 "nbformat_minor": 2
}
